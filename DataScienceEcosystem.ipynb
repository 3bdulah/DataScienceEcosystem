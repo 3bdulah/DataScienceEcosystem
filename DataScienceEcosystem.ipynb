{
 "cells": [
  {
   "cell_type": "code",
   "execution_count": 23,
   "id": "d1c9a4cf-01ac-4b18-a22d-93e811d6d221",
   "metadata": {},
   "outputs": [
    {
     "data": {
      "text/plain": [
       "{'cell_type': 'markdown',\n",
       " 'id': 'faf745f0',\n",
       " 'metadata': {},\n",
       " 'source': ['# Data Science Tools and Ecosystem']}"
      ]
     },
     "execution_count": 23,
     "metadata": {},
     "output_type": "execute_result"
    }
   ],
   "source": [
    "{\n",
    " \"cell_type\": \"markdown\",\n",
    " \"id\": \"faf745f0\",\n",
    " \"metadata\": {},\n",
    " \"source\": [\n",
    "  \"# Data Science Tools and Ecosystem\"\n",
    " ]\n",
    "}"
   ]
  },
  {
   "cell_type": "code",
   "execution_count": 24,
   "id": "68a1e6a4-fcb2-4dfa-b058-40c9f4029977",
   "metadata": {},
   "outputs": [
    {
     "data": {
      "text/plain": [
       "{'cell_type': 'markdown',\n",
       " 'id': 'e3a92563',\n",
       " 'metadata': {},\n",
       " 'source': ['## Abdullah Hani Abdellatif Al-Shobaki\\n', 'Data Scientist']}"
      ]
     },
     "execution_count": 24,
     "metadata": {},
     "output_type": "execute_result"
    }
   ],
   "source": [
    "{\n",
    " \"cell_type\": \"markdown\",\n",
    " \"id\": \"e3a92563\",\n",
    " \"metadata\": {},\n",
    " \"source\": [\n",
    "  \"## Abdullah Hani Abdellatif Al-Shobaki\\n\",\n",
    "  \"Data Scientist\"\n",
    " ]\n",
    "}"
   ]
  },
  {
   "cell_type": "code",
   "execution_count": 25,
   "id": "fa7f8cbc-fc97-452d-a2e4-1a32193b4282",
   "metadata": {},
   "outputs": [
    {
     "data": {
      "text/plain": [
       "{'cell_type': 'markdown',\n",
       " 'id': 'd00ce2ec',\n",
       " 'metadata': {},\n",
       " 'source': ['In this notebook, Data Science Tools and Ecosystem are summarized.']}"
      ]
     },
     "execution_count": 25,
     "metadata": {},
     "output_type": "execute_result"
    }
   ],
   "source": [
    "{\n",
    " \"cell_type\": \"markdown\",\n",
    " \"id\": \"d00ce2ec\",\n",
    " \"metadata\": {},\n",
    " \"source\": [\n",
    "  \"In this notebook, Data Science Tools and Ecosystem are summarized.\"\n",
    " ]\n",
    "}"
   ]
  },
  {
   "cell_type": "code",
   "execution_count": 26,
   "id": "a1cf1ee9-c8ee-4da1-b200-6df7841ab19d",
   "metadata": {},
   "outputs": [
    {
     "data": {
      "text/plain": [
       "{'cell_type': 'markdown',\n",
       " 'id': 'e3a92563',\n",
       " 'metadata': {},\n",
       " 'source': ['## Data Science Libraries\\n',\n",
       "  'Some of the commonly used libraries used by Data Scientists include:']}"
      ]
     },
     "execution_count": 26,
     "metadata": {},
     "output_type": "execute_result"
    }
   ],
   "source": [
    "{\n",
    " \"cell_type\": \"markdown\",\n",
    " \"id\": \"e3a92563\",\n",
    " \"metadata\": {},\n",
    " \"source\": [\n",
    "  \"## Data Science Libraries\\n\",\n",
    "  \"Some of the commonly used libraries used by Data Scientists include:\"\n",
    " ]\n",
    "}"
   ]
  },
  {
   "cell_type": "code",
   "execution_count": 27,
   "id": "de540369-8d84-4a04-84a6-35073839fa46",
   "metadata": {},
   "outputs": [
    {
     "data": {
      "text/plain": [
       "{'cell_type': 'markdown',\n",
       " 'id': 'ecea0c6a',\n",
       " 'metadata': {},\n",
       " 'source': ['## Data Science Tools\\n',\n",
       "  '| Data Science Tools |\\n',\n",
       "  '|-------------------|\\n',\n",
       "  '| Jupyter Notebook  |\\n',\n",
       "  '| RStudio           |\\n',\n",
       "  '| VS Code           |']}"
      ]
     },
     "execution_count": 27,
     "metadata": {},
     "output_type": "execute_result"
    }
   ],
   "source": [
    "{\n",
    " \"cell_type\": \"markdown\",\n",
    " \"id\": \"ecea0c6a\",\n",
    " \"metadata\": {},\n",
    " \"source\": [\n",
    "  \"## Data Science Tools\\n\",\n",
    "  \"| Data Science Tools |\\n\",\n",
    "  \"|-------------------|\\n\",\n",
    "  \"| Jupyter Notebook  |\\n\",\n",
    "  \"| RStudio           |\\n\",\n",
    "  \"| VS Code           |\"\n",
    " ]\n",
    "}"
   ]
  },
  {
   "cell_type": "code",
   "execution_count": 28,
   "id": "99da9b04-6041-4572-b37e-4a312d8c2ad3",
   "metadata": {},
   "outputs": [
    {
     "data": {
      "text/plain": [
       "{'cell_type': 'markdown',\n",
       " 'id': 'ad581afd',\n",
       " 'metadata': {},\n",
       " 'source': ['## Introduction to Arithmetic Expressions\\n',\n",
       "  'Below are a few examples of evaluating arithmetic expressions in Python.']}"
      ]
     },
     "execution_count": 28,
     "metadata": {},
     "output_type": "execute_result"
    }
   ],
   "source": [
    "{\n",
    " \"cell_type\": \"markdown\",\n",
    " \"id\": \"ad581afd\",\n",
    " \"metadata\": {},\n",
    " \"source\": [\n",
    "  \"## Introduction to Arithmetic Expressions\\n\",\n",
    "  \"Below are a few examples of evaluating arithmetic expressions in Python.\"\n",
    " ]\n",
    "}"
   ]
  },
  {
   "cell_type": "code",
   "execution_count": 29,
   "id": "12570327-3afb-4d1f-8d7e-0b9ba1f3cbae",
   "metadata": {},
   "outputs": [
    {
     "data": {
      "text/plain": [
       "{'cell_type': 'code',\n",
       " 'execution_count': 3,\n",
       " 'id': '13732add',\n",
       " 'metadata': {},\n",
       " 'outputs': [{'name': 'stdout',\n",
       "   'output_type': 'stream',\n",
       "   'text': ['The result of the expression (3*4)+5 is: 17\\n']}],\n",
       " 'source': ['# This is a simple arithmetic expression to multiply then add integers\\n',\n",
       "  'result = (3 * 4) + 5\\n',\n",
       "  'print(\"The result of the expression (3*4)+5 is:\", result)']}"
      ]
     },
     "execution_count": 29,
     "metadata": {},
     "output_type": "execute_result"
    }
   ],
   "source": [
    "{\n",
    " \"cell_type\": \"code\",\n",
    " \"execution_count\": 3,\n",
    " \"id\": \"13732add\",\n",
    " \"metadata\": {},\n",
    " \"outputs\": [\n",
    "  {\n",
    "   \"name\": \"stdout\",\n",
    "   \"output_type\": \"stream\",\n",
    "   \"text\": [\n",
    "    \"The result of the expression (3*4)+5 is: 17\\n\"\n",
    "   ]\n",
    "  }\n",
    " ],\n",
    " \"source\": [\n",
    "  \"# This is a simple arithmetic expression to multiply then add integers\\n\",\n",
    "  \"result = (3 * 4) + 5\\n\",\n",
    "  \"print(\\\"The result of the expression (3*4)+5 is:\\\", result)\"\n",
    " ]\n",
    "}"
   ]
  },
  {
   "cell_type": "code",
   "execution_count": 30,
   "id": "ea8c93ed-d39a-4f66-a4ff-b22dcf88ebc6",
   "metadata": {},
   "outputs": [
    {
     "data": {
      "text/plain": [
       "{'cell_type': 'code',\n",
       " 'execution_count': 3,\n",
       " 'id': '13732add',\n",
       " 'metadata': {},\n",
       " 'outputs': [{'name': 'stdout',\n",
       "   'output_type': 'stream',\n",
       "   'text': ['The result of converting 200 minutes to hours is: 3.3333333333333335\\n']}],\n",
       " 'source': ['# This will convert 200 minutes to hours by dividing by 60\\n',\n",
       "  'minutes = 200\\n',\n",
       "  'hours = minutes / 60\\n',\n",
       "  'print(\"The result of converting 200 minutes to hours is:\", hours)']}"
      ]
     },
     "execution_count": 30,
     "metadata": {},
     "output_type": "execute_result"
    }
   ],
   "source": [
    "{\n",
    " \"cell_type\": \"code\",\n",
    " \"execution_count\": 3,\n",
    " \"id\": \"13732add\",\n",
    " \"metadata\": {},\n",
    " \"outputs\": [\n",
    "  {\n",
    "   \"name\": \"stdout\",\n",
    "   \"output_type\": \"stream\",\n",
    "   \"text\": [\n",
    "    \"The result of converting 200 minutes to hours is: 3.3333333333333335\\n\"\n",
    "   ]\n",
    "  }\n",
    " ],\n",
    " \"source\": [\n",
    "  \"# This will convert 200 minutes to hours by dividing by 60\\n\",\n",
    "  \"minutes = 200\\n\",\n",
    "  \"hours = minutes / 60\\n\",\n",
    "  \"print(\\\"The result of converting 200 minutes to hours is:\\\", hours)\"\n",
    " ]\n",
    "}"
   ]
  },
  {
   "cell_type": "code",
   "execution_count": 31,
   "id": "9015b1a6-b4aa-41d8-8dbd-6477d09f5eb9",
   "metadata": {},
   "outputs": [
    {
     "data": {
      "text/plain": [
       "{'cell_type': 'markdown',\n",
       " 'id': 'e3a92563',\n",
       " 'metadata': {},\n",
       " 'source': ['## Objectives:\\n',\n",
       "  '**Some of the key takeaways from the course:**\\n',\n",
       "  '- List popular languages for Data Science\\n',\n",
       "  '- Introduce common Data Science libraries\\n',\n",
       "  '- Overview of Data Science tools\\n']}"
      ]
     },
     "execution_count": 31,
     "metadata": {},
     "output_type": "execute_result"
    }
   ],
   "source": [
    "{\n",
    " \"cell_type\": \"markdown\",\n",
    " \"id\": \"e3a92563\",\n",
    " \"metadata\": {},\n",
    " \"source\": [\n",
    "  \"## Objectives:\\n\",\n",
    "  \"**Some of the key takeaways from the course:**\\n\",\n",
    "  \"- List popular languages for Data Science\\n\",\n",
    "  \"- Introduce common Data Science libraries\\n\",\n",
    "  \"- Overview of Data Science tools\\n\"\n",
    " ]\n",
    "}"
   ]
  },
  {
   "cell_type": "code",
   "execution_count": 32,
   "id": "b724b340-ef51-4b82-af78-a97678c7e77c",
   "metadata": {},
   "outputs": [
    {
     "data": {
      "text/plain": [
       "{'cell_type': 'markdown',\n",
       " 'id': 'ad581afd',\n",
       " 'metadata': {},\n",
       " 'source': ['## Author\\n', 'Abdullah Hani Abdellatif Al-Shobaki']}"
      ]
     },
     "execution_count": 32,
     "metadata": {},
     "output_type": "execute_result"
    }
   ],
   "source": [
    "{\n",
    " \"cell_type\": \"markdown\",\n",
    " \"id\": \"ad581afd\",\n",
    " \"metadata\": {},\n",
    " \"source\": [\n",
    "  \"## Author\\n\",\n",
    "  \"Abdullah Hani Abdellatif Al-Shobaki\"\n",
    " ]\n",
    "}"
   ]
  }
 ],
 "metadata": {
  "kernelspec": {
   "display_name": "Python 3",
   "language": "python",
   "name": "python3"
  },
  "language_info": {
   "codemirror_mode": {
    "name": "ipython",
    "version": 3
   },
   "file_extension": ".py",
   "mimetype": "text/x-python",
   "name": "python",
   "nbconvert_exporter": "python",
   "pygments_lexer": "ipython3",
   "version": "3.10.9"
  }
 },
 "nbformat": 4,
 "nbformat_minor": 5
}
